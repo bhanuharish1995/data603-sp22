{
  "nbformat": 4,
  "nbformat_minor": 0,
  "metadata": {
    "colab": {
      "name": "hw07.ipynb",
      "provenance": [],
      "collapsed_sections": []
    },
    "kernelspec": {
      "name": "python3",
      "display_name": "Python 3"
    },
    "language_info": {
      "name": "python"
    }
  },
  "cells": [
    {
      "cell_type": "markdown",
      "source": [
        "### Importing all the useful libraries"
      ],
      "metadata": {
        "id": "9-_-Bd6p_LXT"
      }
    },
    {
      "cell_type": "code",
      "source": [
        "!pip install pyspark\n",
        "import pyspark"
      ],
      "metadata": {
        "colab": {
          "base_uri": "https://localhost:8080/"
        },
        "id": "pTdqOKN7KCjD",
        "outputId": "b84eb669-36e6-4258-cdb4-1252b618b8a1"
      },
      "execution_count": null,
      "outputs": [
        {
          "output_type": "stream",
          "name": "stdout",
          "text": [
            "Requirement already satisfied: pyspark in /usr/local/lib/python3.7/dist-packages (3.2.1)\n",
            "Requirement already satisfied: py4j==0.10.9.3 in /usr/local/lib/python3.7/dist-packages (from pyspark) (0.10.9.3)\n"
          ]
        }
      ]
    },
    {
      "cell_type": "code",
      "source": [
        "from pyspark.sql.types import *\n",
        "from pyspark.sql.functions import *"
      ],
      "metadata": {
        "id": "OByLucV4RNWQ"
      },
      "execution_count": 59,
      "outputs": []
    },
    {
      "cell_type": "code",
      "source": [
        "from pyspark.sql.functions import mean,when\n",
        "import pyspark.sql.functions as F\n",
        "import pyspark.sql.types as T\n",
        "from pyspark.sql.types import DoubleType\n",
        "from pyspark.ml.feature import StringIndexer\n",
        "from pyspark.ml.feature import VectorAssembler\n",
        "from pyspark.ml.classification import DecisionTreeClassifier\n",
        "from pyspark.ml.evaluation import MulticlassClassificationEvaluator\n",
        "from pyspark.ml.classification import RandomForestClassifier\n",
        "from pyspark.ml.classification import LogisticRegression\n",
        "from pyspark.ml.classification import GBTClassifier\n",
        "from pyspark.mllib.evaluation import MulticlassMetrics\n",
        "import matplotlib.pyplot as plt\n",
        "from pyspark.ml.evaluation import BinaryClassificationEvaluator\n",
        "from pyspark.mllib.evaluation import BinaryClassificationMetrics\n",
        "from pyspark.ml.tuning import ParamGridBuilder, TrainValidationSplit, CrossValidator\n",
        "from pyspark.mllib.classification import LogisticRegressionWithLBFGS\n",
        "from pyspark.mllib.util import MLUtils\n",
        "from pyspark.sql import SparkSession"
      ],
      "metadata": {
        "id": "ItCbuTnyk7BT"
      },
      "execution_count": 60,
      "outputs": []
    },
    {
      "cell_type": "code",
      "execution_count": 61,
      "metadata": {
        "id": "960TUSPZfDSa"
      },
      "outputs": [],
      "source": [
        "spark = SparkSession.builder.getOrCreate()"
      ]
    },
    {
      "cell_type": "code",
      "source": [
        "import pyspark\n",
        "spark = pyspark.sql.SparkSession.builder.getOrCreate()\n",
        "sc = spark.sparkContext"
      ],
      "metadata": {
        "id": "QhtZMk6NfFU0"
      },
      "execution_count": 62,
      "outputs": []
    },
    {
      "cell_type": "code",
      "source": [
        "spark"
      ],
      "metadata": {
        "colab": {
          "base_uri": "https://localhost:8080/",
          "height": 219
        },
        "id": "mld_SAeRki1z",
        "outputId": "4b50da8c-f2ae-479d-99ee-325d44332aa5"
      },
      "execution_count": 63,
      "outputs": [
        {
          "output_type": "execute_result",
          "data": {
            "text/plain": [
              "<pyspark.sql.session.SparkSession at 0x7f9f840e8790>"
            ],
            "text/html": [
              "\n",
              "            <div>\n",
              "                <p><b>SparkSession - in-memory</b></p>\n",
              "                \n",
              "        <div>\n",
              "            <p><b>SparkContext</b></p>\n",
              "\n",
              "            <p><a href=\"http://31fa36d2c349:4040\">Spark UI</a></p>\n",
              "\n",
              "            <dl>\n",
              "              <dt>Version</dt>\n",
              "                <dd><code>v3.2.1</code></dd>\n",
              "              <dt>Master</dt>\n",
              "                <dd><code>local[*]</code></dd>\n",
              "              <dt>AppName</dt>\n",
              "                <dd><code>pyspark-shell</code></dd>\n",
              "            </dl>\n",
              "        </div>\n",
              "        \n",
              "            </div>\n",
              "        "
            ]
          },
          "metadata": {},
          "execution_count": 63
        }
      ]
    },
    {
      "cell_type": "markdown",
      "source": [
        "Declaring schema for the file\n"
      ],
      "metadata": {
        "id": "IQQXens0_X9k"
      }
    },
    {
      "cell_type": "code",
      "source": [
        "cschema = StructType([\n",
        "StructField('Date',StringType(), True),\n",
        "StructField('Location',StringType(), True),\n",
        "StructField('MinTemp',FloatType(), True),\n",
        "StructField('MaxTemp',FloatType(), True),\n",
        "StructField('Rainfall',FloatType(), True),\n",
        "StructField('Evaporation',FloatType(), True),\n",
        "StructField('Sunshine',FloatType(), True),\n",
        "StructField('WindGustDir',StringType(), True),\n",
        "StructField('WindGustSpeed',IntegerType(), True),\n",
        "StructField('WindDir9am',StringType(), True),\n",
        "StructField('WindDir3pm',StringType(), True),\n",
        "StructField('WindSpeed9am',IntegerType(), True),\n",
        "StructField('WindSpeed3pm',IntegerType(), True),\n",
        "StructField('Humidity9am',IntegerType(), True),\n",
        "StructField('Humidity3pm',IntegerType(), True),\n",
        "StructField('Pressure9am',FloatType(), True),\n",
        "StructField('Pressure3pm',FloatType(), True),\n",
        "StructField('Cloud9am',IntegerType(), True),\n",
        "StructField('Cloud3pm',IntegerType(), True),\n",
        "StructField('Temp9am',FloatType(), True),\n",
        "StructField('Temp3pm',FloatType(), True),\n",
        "StructField('RainToday',StringType(), True),\n",
        "StructField('RainTomorrow',StringType(), True)])"
      ],
      "metadata": {
        "id": "asG6HFp1RIE-"
      },
      "execution_count": 64,
      "outputs": []
    },
    {
      "cell_type": "code",
      "source": [
        "df = spark.read.csv('weatherAUS.csv',schema =cschema, header = True)"
      ],
      "metadata": {
        "id": "eaOnb0tTkk6u"
      },
      "execution_count": 65,
      "outputs": []
    },
    {
      "cell_type": "code",
      "source": [
        "for i in df.columns:\n",
        "    count = df.filter(df[i] == 'NA').count()\n",
        "    print('Total null counts for',i,'are:',count)"
      ],
      "metadata": {
        "colab": {
          "base_uri": "https://localhost:8080/"
        },
        "id": "9qfeMYdHkni-",
        "outputId": "35ac3ccc-886a-4474-94a3-469171ae08ef"
      },
      "execution_count": null,
      "outputs": [
        {
          "output_type": "stream",
          "name": "stdout",
          "text": [
            "Total null counts for Date are: 0\n",
            "Total null counts for Location are: 0\n",
            "Total null counts for MinTemp are: 1485\n",
            "Total null counts for MaxTemp are: 1261\n",
            "Total null counts for Rainfall are: 3261\n",
            "Total null counts for Evaporation are: 62790\n",
            "Total null counts for Sunshine are: 69835\n",
            "Total null counts for WindGustDir are: 10326\n",
            "Total null counts for WindGustSpeed are: 10263\n",
            "Total null counts for WindDir9am are: 10566\n",
            "Total null counts for WindDir3pm are: 4228\n",
            "Total null counts for WindSpeed9am are: 1767\n",
            "Total null counts for WindSpeed3pm are: 3062\n",
            "Total null counts for Humidity9am are: 2654\n",
            "Total null counts for Humidity3pm are: 4507\n",
            "Total null counts for Pressure9am are: 15065\n",
            "Total null counts for Pressure3pm are: 15028\n",
            "Total null counts for Cloud9am are: 55888\n",
            "Total null counts for Cloud3pm are: 59358\n",
            "Total null counts for Temp9am are: 1767\n",
            "Total null counts for Temp3pm are: 3609\n",
            "Total null counts for RainToday are: 3261\n",
            "Total null counts for RainTomorrow are: 3267\n"
          ]
        }
      ]
    },
    {
      "cell_type": "markdown",
      "source": [
        "#### I have dropped the columns which are independent and also the columns which had null values more than 60% "
      ],
      "metadata": {
        "id": "6VdHgGU6_qKD"
      }
    },
    {
      "cell_type": "code",
      "source": [
        "df = df.drop('Date','Location','Evaporation','Sunshine','Cloud9am','Cloud3pm','Temp9am','Temp3pm')"
      ],
      "metadata": {
        "id": "DJcBU1f_ksyM"
      },
      "execution_count": null,
      "outputs": []
    },
    {
      "cell_type": "code",
      "source": [
        "numeric_col = [df['MinTemp'],df['MaxTemp'],df['Rainfall'],df['WindGustSpeed'],df['WindSpeed9am'],df['WindSpeed3pm'],df['Humidity9am'],df['Humidity3pm'],df['Pressure9am']]"
      ],
      "metadata": {
        "id": "NZWz2oz5kzFY"
      },
      "execution_count": null,
      "outputs": []
    },
    {
      "cell_type": "markdown",
      "source": [
        "#### Calculated the average so that I could Impute the null records."
      ],
      "metadata": {
        "id": "HYAv4kn4AEvo"
      }
    },
    {
      "cell_type": "code",
      "source": [
        "for i in numeric_col:\n",
        "  average = df.select([mean(i)]).show()\n",
        "  average"
      ],
      "metadata": {
        "colab": {
          "base_uri": "https://localhost:8080/"
        },
        "id": "OIHk44ogk3lG",
        "outputId": "dd8934fc-cea2-4342-adb1-aff66cf263b3"
      },
      "execution_count": null,
      "outputs": [
        {
          "output_type": "stream",
          "name": "stdout",
          "text": [
            "+------------------+\n",
            "|      avg(MinTemp)|\n",
            "+------------------+\n",
            "|12.194034380968894|\n",
            "+------------------+\n",
            "\n",
            "+------------------+\n",
            "|      avg(MaxTemp)|\n",
            "+------------------+\n",
            "|23.221348275647014|\n",
            "+------------------+\n",
            "\n",
            "+------------------+\n",
            "|     avg(Rainfall)|\n",
            "+------------------+\n",
            "|2.3609181499168272|\n",
            "+------------------+\n",
            "\n",
            "+------------------+\n",
            "|avg(WindGustSpeed)|\n",
            "+------------------+\n",
            "| 40.03523007167319|\n",
            "+------------------+\n",
            "\n",
            "+------------------+\n",
            "| avg(WindSpeed9am)|\n",
            "+------------------+\n",
            "|14.043425914971502|\n",
            "+------------------+\n",
            "\n",
            "+------------------+\n",
            "| avg(WindSpeed3pm)|\n",
            "+------------------+\n",
            "|18.662656778887342|\n",
            "+------------------+\n",
            "\n",
            "+-----------------+\n",
            "| avg(Humidity9am)|\n",
            "+-----------------+\n",
            "|68.88083133761887|\n",
            "+-----------------+\n",
            "\n",
            "+----------------+\n",
            "|avg(Humidity3pm)|\n",
            "+----------------+\n",
            "|51.5391158755046|\n",
            "+----------------+\n",
            "\n",
            "+------------------+\n",
            "|  avg(Pressure9am)|\n",
            "+------------------+\n",
            "|1017.6499397983058|\n",
            "+------------------+\n",
            "\n"
          ]
        }
      ]
    },
    {
      "cell_type": "markdown",
      "source": [
        "Updating the numeric column's null values with their respective mean "
      ],
      "metadata": {
        "id": "VR6MBtcCFgYj"
      }
    },
    {
      "cell_type": "code",
      "source": [
        "updatedmint = df.withColumn(\"MinTemp\",F.when(F.col(\"MinTemp\") == 'NA',12.2).otherwise(F.col(\"MinTemp\")))\n",
        "updatedmaxt = updatedmint.withColumn(\"MaxTemp\",F.when(F.col(\"MaxTemp\") == 'NA',23.2).otherwise(F.col(\"MaxTemp\")))\n",
        "updatedrainf = updatedmaxt.withColumn(\"Rainfall\",F.when(F.col(\"Rainfall\") == 'NA',2.3).otherwise(F.col(\"Rainfall\")))\n",
        "updatedwind = updatedrainf.withColumn(\"WindGustSpeed\",F.when(F.col(\"WindGustSpeed\") == 'NA',40.0).otherwise(F.col(\"WindGustSpeed\")))\n",
        "updatedwinds9 = updatedwind.withColumn(\"WindSpeed9am\",F.when(F.col(\"WindSpeed9am\") == 'NA',14.0).otherwise(F.col(\"WindSpeed9am\")))\n",
        "updatedwinds3 = updatedwinds9.withColumn(\"WindSpeed3pm\",F.when(F.col(\"WindSpeed3pm\") == 'NA',18.6).otherwise(F.col(\"WindSpeed3pm\")))\n",
        "updatedhum9 = updatedwinds3.withColumn(\"Humidity9am\",F.when(F.col(\"Humidity9am\") == 'NA',68.8).otherwise(F.col(\"Humidity9am\")))\n",
        "updatedhum3 = updatedhum9.withColumn(\"Humidity3pm\",F.when(F.col(\"Humidity3pm\") == 'NA',51.5).otherwise(F.col(\"Humidity3pm\")))\n",
        "updatedpres9 = updatedhum3.withColumn(\"Pressure9am\",F.when(F.col(\"Pressure9am\") == 'NA',1017.7).otherwise(F.col(\"Pressure9am\")))\n",
        "inputted_numeric = updatedpres9.withColumn(\"Pressure3pm\",F.when(F.col(\"Pressure3pm\") == 'NA',1015.3).otherwise(F.col(\"Pressure3pm\")))"
      ],
      "metadata": {
        "id": "XIbr3KNqk5SN"
      },
      "execution_count": null,
      "outputs": []
    },
    {
      "cell_type": "code",
      "source": [
        "updatedwindgust = inputted_numeric.withColumn(\"WindGustDir\",F.when(F.col(\"WindGustDir\") == 'NA','W').otherwise(F.col(\"WindGustDir\")))\n",
        "updatedwindir9 = updatedwindgust.withColumn(\"WindDir9am\",F.when(F.col(\"WindDir9am\") == 'NA','N').otherwise(F.col(\"WindDir9am\")))\n",
        "updatedwindir3 = updatedwindir9.withColumn(\"WindDir3pm\",F.when(F.col(\"WindDir3pm\") == 'NA','SE').otherwise(F.col(\"WindDir3pm\")))\n",
        "updatedraint = updatedwindir3.withColumn(\"RainToday\",F.when(F.col(\"RainToday\") == 'NA','No').otherwise(F.col(\"RainToday\")))\n",
        "inputted_weather = updatedraint.withColumn(\"RainTomorrow\",F.when(F.col(\"RainTomorrow\") == 'NA','No').otherwise(F.col(\"RainTomorrow\")))"
      ],
      "metadata": {
        "id": "REZw1ac0lCMf"
      },
      "execution_count": null,
      "outputs": []
    },
    {
      "cell_type": "code",
      "source": [
        "for i in inputted_weather.columns:\n",
        "    count = inputted_weather.filter(inputted_weather[i] == 'NA').count()\n",
        "    print('Total null counts for',i,'are:',count)"
      ],
      "metadata": {
        "colab": {
          "base_uri": "https://localhost:8080/"
        },
        "id": "9W0UYT7blGLU",
        "outputId": "f256d430-8695-4e6c-d76e-9fda3ffd1b6a"
      },
      "execution_count": null,
      "outputs": [
        {
          "output_type": "stream",
          "name": "stdout",
          "text": [
            "Total null counts for MinTemp are: 0\n",
            "Total null counts for MaxTemp are: 0\n",
            "Total null counts for Rainfall are: 0\n",
            "Total null counts for WindGustDir are: 0\n",
            "Total null counts for WindGustSpeed are: 0\n",
            "Total null counts for WindDir9am are: 0\n",
            "Total null counts for WindDir3pm are: 0\n",
            "Total null counts for WindSpeed9am are: 0\n",
            "Total null counts for WindSpeed3pm are: 0\n",
            "Total null counts for Humidity9am are: 0\n",
            "Total null counts for Humidity3pm are: 0\n",
            "Total null counts for Pressure9am are: 0\n",
            "Total null counts for Pressure3pm are: 0\n",
            "Total null counts for RainToday are: 0\n",
            "Total null counts for RainTomorrow are: 0\n"
          ]
        }
      ]
    },
    {
      "cell_type": "code",
      "source": [
        "numeric_col = ['MinTemp','MaxTemp','Rainfall','WindGustSpeed','WindSpeed9am','WindSpeed3pm','Humidity9am','Humidity3pm','Pressure9am','Humidity3pm','Humidity9am','Pressure3pm']"
      ],
      "metadata": {
        "id": "_yjJYvUOlI4e"
      },
      "execution_count": null,
      "outputs": []
    },
    {
      "cell_type": "code",
      "source": [
        "for i in numeric_col:\n",
        "    inputted_weather = inputted_weather.withColumn(i, inputted_weather[i].cast(DoubleType()))"
      ],
      "metadata": {
        "id": "A8qOcQT4lMHj"
      },
      "execution_count": null,
      "outputs": []
    },
    {
      "cell_type": "markdown",
      "source": [
        "#### Creating a pipeline and using StringIndexer and Onehotencoder "
      ],
      "metadata": {
        "id": "9t-k8CRLFuP1"
      }
    },
    {
      "cell_type": "code",
      "source": [
        "import pyspark\n",
        "from pyspark.ml import Pipeline\n",
        "from pyspark.ml.feature import StringIndexer, VectorAssembler\n",
        " \n",
        "from distutils.version import LooseVersion\n",
        " \n",
        "categoricalColumns = [\"WindGustDir\",\"WindDir9am\",\"WindDir3pm\",\"RainToday\",\"RainTomorrow\"]\n",
        "stages = [] # stages in Pipeline\n",
        "for categoricalCol in categoricalColumns:\n",
        "    # Category Indexing with StringIndexer\n",
        "    stringIndexer = StringIndexer(inputCol=categoricalCol, outputCol=categoricalCol + \"Index\")\n",
        "    # Use OneHotEncoder to convert categorical variables into binary SparseVectors\n",
        "    if LooseVersion(pyspark.__version__) < LooseVersion(\"3.0\"):\n",
        "        from pyspark.ml.feature import OneHotEncoderEstimator\n",
        "        encoder = OneHotEncoderEstimator(inputCols=[stringIndexer.getOutputCol()], outputCols=[categoricalCol + \"classVec\"])\n",
        "    else:\n",
        "        from pyspark.ml.feature import OneHotEncoder\n",
        "        encoder = OneHotEncoder(inputCols=[stringIndexer.getOutputCol()], outputCols=[categoricalCol + \"classVec\"])\n",
        "    stages += [stringIndexer, encoder]\n"
      ],
      "metadata": {
        "id": "NMYWr13UlQAO"
      },
      "execution_count": null,
      "outputs": []
    },
    {
      "cell_type": "markdown",
      "source": [
        "#### Using vector assembler to join all the columns "
      ],
      "metadata": {
        "id": "CFMAzRQCF8zb"
      }
    },
    {
      "cell_type": "code",
      "source": [
        "assemblerInputs = [c + \"classVec\" for c in categoricalColumns] + numeric_col\n",
        "assembler = VectorAssembler(inputCols=assemblerInputs, outputCol=\"features\")\n",
        "stages += [assembler]"
      ],
      "metadata": {
        "id": "21Du0x1lldte"
      },
      "execution_count": null,
      "outputs": []
    },
    {
      "cell_type": "markdown",
      "source": [
        "### Defining Decision so that we can further add that in pipeine"
      ],
      "metadata": {
        "id": "g-XvplmN68yl"
      }
    },
    {
      "cell_type": "code",
      "source": [
        "dt = DecisionTreeClassifier(labelCol='RainTomorrowIndex' , featuresCol=\"features\")"
      ],
      "metadata": {
        "id": "QG8fESGXlgFf"
      },
      "execution_count": null,
      "outputs": []
    },
    {
      "cell_type": "markdown",
      "source": [
        "#### Listing all the parameters "
      ],
      "metadata": {
        "id": "CSJZE8At7KG4"
      }
    },
    {
      "cell_type": "code",
      "source": [
        "dtparamGrid = (ParamGridBuilder()\n",
        "               .addGrid(dt.impurity, [\"gini\",\"entropy\"])\n",
        "             .addGrid(dt.maxDepth, [5])\n",
        "             .addGrid(dt.maxBins, [5, 10, 15])\n",
        "             .addGrid(dt.minInfoGain, [0.0, 0.2, 0.4])\n",
        "             .build())"
      ],
      "metadata": {
        "id": "McxaqXG2liGO"
      },
      "execution_count": null,
      "outputs": []
    },
    {
      "cell_type": "code",
      "source": [
        "dtevaluator = BinaryClassificationEvaluator().setLabelCol(\"RainTomorrowIndex\")"
      ],
      "metadata": {
        "id": "9tiEqw_slj1j"
      },
      "execution_count": null,
      "outputs": []
    },
    {
      "cell_type": "markdown",
      "source": [
        "#### Defining the evaluator and number of folds for validation"
      ],
      "metadata": {
        "id": "GXihNL3O7R0b"
      }
    },
    {
      "cell_type": "code",
      "source": [
        "dtcv = CrossValidator(estimator = dt,\n",
        "                      estimatorParamMaps = dtparamGrid,\n",
        "                      evaluator = dtevaluator,\n",
        "                      numFolds = 4)"
      ],
      "metadata": {
        "id": "hfEd2NRIll1t"
      },
      "execution_count": null,
      "outputs": []
    },
    {
      "cell_type": "code",
      "source": [
        "stages += [dtcv]"
      ],
      "metadata": {
        "id": "YsQK2mytln5q"
      },
      "execution_count": null,
      "outputs": []
    },
    {
      "cell_type": "markdown",
      "source": [
        "#### Splitting the data "
      ],
      "metadata": {
        "id": "IDMaItqr7cMV"
      }
    },
    {
      "cell_type": "code",
      "source": [
        "(trainingData, testData) = inputted_weather.randomSplit([0.8, 0.2], seed=12345)"
      ],
      "metadata": {
        "id": "Qq5Zrw9mlprV"
      },
      "execution_count": null,
      "outputs": []
    },
    {
      "cell_type": "markdown",
      "source": [
        "#### Running the pipeline after assigning all the stages "
      ],
      "metadata": {
        "id": "bpgcths47gBQ"
      }
    },
    {
      "cell_type": "code",
      "source": [
        "\n",
        "  \n",
        "partialPipeline = Pipeline().setStages(stages)\n",
        "pipelineModel = partialPipeline.fit(trainingData)\n",
        "preppedDataDF = pipelineModel.transform(testData)"
      ],
      "metadata": {
        "id": "heS3O6selrZE"
      },
      "execution_count": null,
      "outputs": []
    },
    {
      "cell_type": "markdown",
      "source": [
        "#### Here I wanted to extract the best parameter used, so in the pipelined I defined the stage where hyperparameter tuning was done and then tried to extract the best parameters."
      ],
      "metadata": {
        "id": "DYTs_75m7p04"
      }
    },
    {
      "cell_type": "code",
      "source": [
        "model=pipelineModel.stages[-1].bestModel"
      ],
      "metadata": {
        "id": "5oxLPdDyraHw"
      },
      "execution_count": null,
      "outputs": []
    },
    {
      "cell_type": "markdown",
      "source": [
        "#### Here we can see all the parameters in the best model selected,\n",
        "- impurity    - \"gini\"\n",
        "- maxDepth    - \"5\"\n",
        "- maxBins     - \"5\"\n",
        "- minInfoGain - \"0.0\"\n",
        "\n",
        "<br>\n",
        "\n",
        "We can also look at other parameters as well. "
      ],
      "metadata": {
        "id": "FFxwsLPE75OB"
      }
    },
    {
      "cell_type": "code",
      "source": [
        "model.extractParamMap()"
      ],
      "metadata": {
        "colab": {
          "base_uri": "https://localhost:8080/"
        },
        "id": "ffn0h0YmqEsB",
        "outputId": "4634edc2-6091-40b3-b38b-bf062eaaeaf5"
      },
      "execution_count": null,
      "outputs": [
        {
          "output_type": "execute_result",
          "data": {
            "text/plain": [
              "{Param(parent='DecisionTreeClassifier_ed7585855691', name='cacheNodeIds', doc='If false, the algorithm will pass trees to executors to match instances with nodes. If true, the algorithm will cache node IDs for each instance. Caching can speed up training of deeper trees. Users can set how often should the cache be checkpointed or disable it by setting checkpointInterval.'): False,\n",
              " Param(parent='DecisionTreeClassifier_ed7585855691', name='checkpointInterval', doc='set checkpoint interval (>= 1) or disable checkpoint (-1). E.g. 10 means that the cache will get checkpointed every 10 iterations. Note: this setting will be ignored if the checkpoint directory is not set in the SparkContext.'): 10,\n",
              " Param(parent='DecisionTreeClassifier_ed7585855691', name='featuresCol', doc='features column name.'): 'features',\n",
              " Param(parent='DecisionTreeClassifier_ed7585855691', name='impurity', doc='Criterion used for information gain calculation (case-insensitive). Supported options: entropy, gini'): 'gini',\n",
              " Param(parent='DecisionTreeClassifier_ed7585855691', name='labelCol', doc='label column name.'): 'RainTomorrowIndex',\n",
              " Param(parent='DecisionTreeClassifier_ed7585855691', name='leafCol', doc='Leaf indices column name. Predicted leaf index of each instance in each tree by preorder.'): '',\n",
              " Param(parent='DecisionTreeClassifier_ed7585855691', name='maxBins', doc='Max number of bins for discretizing continuous features.  Must be >=2 and >= number of categories for any categorical feature.'): 5,\n",
              " Param(parent='DecisionTreeClassifier_ed7585855691', name='maxDepth', doc='Maximum depth of the tree. (>= 0) E.g., depth 0 means 1 leaf node; depth 1 means 1 internal node + 2 leaf nodes. Must be in range [0, 30].'): 5,\n",
              " Param(parent='DecisionTreeClassifier_ed7585855691', name='maxMemoryInMB', doc='Maximum memory in MB allocated to histogram aggregation. If too small, then 1 node will be split per iteration, and its aggregates may exceed this size.'): 256,\n",
              " Param(parent='DecisionTreeClassifier_ed7585855691', name='minInfoGain', doc='Minimum information gain for a split to be considered at a tree node.'): 0.0,\n",
              " Param(parent='DecisionTreeClassifier_ed7585855691', name='minInstancesPerNode', doc='Minimum number of instances each child must have after split. If a split causes the left or right child to have fewer than minInstancesPerNode, the split will be discarded as invalid. Should be >= 1.'): 1,\n",
              " Param(parent='DecisionTreeClassifier_ed7585855691', name='minWeightFractionPerNode', doc='Minimum fraction of the weighted sample count that each child must have after split. If a split causes the fraction of the total weight in the left or right child to be less than minWeightFractionPerNode, the split will be discarded as invalid. Should be in interval [0.0, 0.5).'): 0.0,\n",
              " Param(parent='DecisionTreeClassifier_ed7585855691', name='predictionCol', doc='prediction column name.'): 'prediction',\n",
              " Param(parent='DecisionTreeClassifier_ed7585855691', name='probabilityCol', doc='Column name for predicted class conditional probabilities. Note: Not all models output well-calibrated probability estimates! These probabilities should be treated as confidences, not precise probabilities.'): 'probability',\n",
              " Param(parent='DecisionTreeClassifier_ed7585855691', name='rawPredictionCol', doc='raw prediction (a.k.a. confidence) column name.'): 'rawPrediction',\n",
              " Param(parent='DecisionTreeClassifier_ed7585855691', name='seed', doc='random seed.'): 9042904769618263770}"
            ]
          },
          "metadata": {},
          "execution_count": 28
        }
      ]
    },
    {
      "cell_type": "code",
      "source": [
        "preds = preppedDataDF.select('RainTomorrowIndex','probability').rdd.map(lambda row: (float(row['probability'][1]), float(row['RainTomorrowIndex'])))"
      ],
      "metadata": {
        "id": "63T846jICs26"
      },
      "execution_count": null,
      "outputs": []
    },
    {
      "cell_type": "code",
      "source": [
        "metrics = BinaryClassificationMetrics(preds)\n"
      ],
      "metadata": {
        "colab": {
          "base_uri": "https://localhost:8080/"
        },
        "id": "p46x9jm9ScwF",
        "outputId": "73cccd38-ed50-4c5f-99dc-411193e106f8"
      },
      "execution_count": null,
      "outputs": [
        {
          "output_type": "stream",
          "name": "stderr",
          "text": [
            "/usr/local/lib/python3.7/dist-packages/pyspark/sql/context.py:127: FutureWarning: Deprecated in 3.0.0. Use SparkSession.builder.getOrCreate() instead.\n",
            "  FutureWarning\n"
          ]
        }
      ]
    },
    {
      "cell_type": "markdown",
      "source": [
        "Calculating the area under ROC and AUC score which are bulit in functions already."
      ],
      "metadata": {
        "id": "MFvvUbAxTQba"
      }
    },
    {
      "cell_type": "code",
      "source": [
        "print(\"Area under PR = %s\" % metrics.areaUnderPR)"
      ],
      "metadata": {
        "colab": {
          "base_uri": "https://localhost:8080/"
        },
        "id": "pzgiTD2JSjfa",
        "outputId": "ad215c77-4d52-41ea-acfa-f55fff8b3894"
      },
      "execution_count": null,
      "outputs": [
        {
          "output_type": "stream",
          "name": "stdout",
          "text": [
            "Area under PR = 1.0\n"
          ]
        }
      ]
    },
    {
      "cell_type": "code",
      "source": [
        "print(\"Area under ROC = %s\" % metrics.areaUnderROC)"
      ],
      "metadata": {
        "colab": {
          "base_uri": "https://localhost:8080/"
        },
        "id": "fA8FG-mcSqpn",
        "outputId": "faf455f1-8eae-406d-e35c-0597deeabafe"
      },
      "execution_count": null,
      "outputs": [
        {
          "output_type": "stream",
          "name": "stdout",
          "text": [
            "Area under ROC = 1.0\n"
          ]
        }
      ]
    },
    {
      "cell_type": "code",
      "source": [
        ""
      ],
      "metadata": {
        "id": "sZD3ccLJEysz"
      },
      "execution_count": null,
      "outputs": []
    }
  ]
}