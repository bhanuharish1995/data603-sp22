{
  "nbformat": 4,
  "nbformat_minor": 0,
  "metadata": {
    "colab": {
      "name": "Bhanu6031.ipynb",
      "provenance": []
    },
    "kernelspec": {
      "name": "python3",
      "display_name": "Python 3"
    },
    "language_info": {
      "name": "python"
    }
  },
  "cells": [
    {
      "cell_type": "code",
      "execution_count": 15,
      "metadata": {
        "colab": {
          "base_uri": "https://localhost:8080/"
        },
        "id": "cVl-4SD3YvaY",
        "outputId": "acc09890-60c9-42f1-d4d3-17b9a6b9f961"
      },
      "outputs": [
        {
          "output_type": "stream",
          "name": "stdout",
          "text": [
            "Requirement already satisfied: pyspark in /usr/local/lib/python3.7/dist-packages (3.2.1)\n",
            "Requirement already satisfied: py4j==0.10.9.3 in /usr/local/lib/python3.7/dist-packages (from pyspark) (0.10.9.3)\n"
          ]
        }
      ],
      "source": [
        "!pip install pyspark"
      ]
    },
    {
      "cell_type": "code",
      "source": [
        "import pyspark\n",
        "spark = pyspark.sql.SparkSession.builder.getOrCreate()\n",
        "sc = spark.sparkContext"
      ],
      "metadata": {
        "id": "EbcoeVqhaRGC"
      },
      "execution_count": 16,
      "outputs": []
    },
    {
      "cell_type": "code",
      "source": [
        "from pyspark.sql import SparkSession\n",
        "from pyspark.sql.types import *\n",
        "from pyspark.sql.functions import *\n",
        "import pyspark.sql.functions as f"
      ],
      "metadata": {
        "id": "7YCaxNOlaYZo"
      },
      "execution_count": 39,
      "outputs": []
    },
    {
      "cell_type": "code",
      "source": [
        "spark"
      ],
      "metadata": {
        "colab": {
          "base_uri": "https://localhost:8080/",
          "height": 219
        },
        "id": "ipy2LP_Facsx",
        "outputId": "83708684-83b7-4cb1-8c0c-171e550cb17c"
      },
      "execution_count": 18,
      "outputs": [
        {
          "output_type": "execute_result",
          "data": {
            "text/html": [
              "\n",
              "            <div>\n",
              "                <p><b>SparkSession - in-memory</b></p>\n",
              "                \n",
              "        <div>\n",
              "            <p><b>SparkContext</b></p>\n",
              "\n",
              "            <p><a href=\"http://6c49aa1bb671:4040\">Spark UI</a></p>\n",
              "\n",
              "            <dl>\n",
              "              <dt>Version</dt>\n",
              "                <dd><code>v3.2.1</code></dd>\n",
              "              <dt>Master</dt>\n",
              "                <dd><code>local[*]</code></dd>\n",
              "              <dt>AppName</dt>\n",
              "                <dd><code>pyspark-shell</code></dd>\n",
              "            </dl>\n",
              "        </div>\n",
              "        \n",
              "            </div>\n",
              "        "
            ],
            "text/plain": [
              "<pyspark.sql.session.SparkSession at 0x7f056dd176d0>"
            ]
          },
          "metadata": {},
          "execution_count": 18
        }
      ]
    },
    {
      "cell_type": "code",
      "source": [
        "Crime_data = 'Part1_Crime_data.csv'"
      ],
      "metadata": {
        "id": "a2KpXWxHZJ6N"
      },
      "execution_count": 21,
      "outputs": []
    },
    {
      "cell_type": "code",
      "source": [
        "crime_schema = StructType([StructField('X', DoubleType(), True),\n",
        "StructField('Y', DoubleType(), True),\n",
        "StructField('RowID', StringType(), True),\n",
        "StructField('CrimeDateTime', StringType(), True),\n",
        "StructField('CrimeCode', StringType(), True),\n",
        "StructField('Location', StringType(), True),\n",
        "StructField('Description', StringType(), True),\n",
        "StructField('Inside_Outside', StringType(), True),\n",
        "StructField('Weapon', StringType(), True),\n",
        "StructField('Post', StringType(), True),\n",
        "StructField('District', StringType(), True),\n",
        "StructField('Neighborhood', StringType(), True),\n",
        "StructField('Latitude', DoubleType(), True),\n",
        "StructField('Longitude', DoubleType(), True),\n",
        "StructField('GeoLocation', StringType(), True),\n",
        "StructField('Premise', StringType(), True),\n",
        "StructField('VRIName', StringType(), True),\n",
        "StructField('Total_Incidents', IntegerType(), True),\n",
        "StructField('Shape', StringType(), True)])"
      ],
      "metadata": {
        "id": "jVfl0FTkZorL"
      },
      "execution_count": 22,
      "outputs": []
    },
    {
      "cell_type": "markdown",
      "source": [
        "Reading CSV file with the structured schema"
      ],
      "metadata": {
        "id": "WkDtth-OwY1S"
      }
    },
    {
      "cell_type": "code",
      "source": [
        "df = spark.read.csv(Crime_data, header=True, schema=crime_schema)"
      ],
      "metadata": {
        "id": "UzWQBGM8aMIu"
      },
      "execution_count": 23,
      "outputs": []
    },
    {
      "cell_type": "markdown",
      "source": [
        "Cache the Dataframe"
      ],
      "metadata": {
        "id": "Fi3HT2EqwfxE"
      }
    },
    {
      "cell_type": "code",
      "source": [
        "df.cache()"
      ],
      "metadata": {
        "colab": {
          "base_uri": "https://localhost:8080/"
        },
        "id": "L8zNT6yZatVt",
        "outputId": "e50086b8-f8b6-42af-8645-f98640dc875a"
      },
      "execution_count": 24,
      "outputs": [
        {
          "output_type": "execute_result",
          "data": {
            "text/plain": [
              "DataFrame[X: double, Y: double, RowID: string, CrimeDateTime: string, CrimeCode: string, Location: string, Description: string, Inside_Outside: string, Weapon: string, Post: string, District: string, Neighborhood: string, Latitude: double, Longitude: double, GeoLocation: string, Premise: string, VRIName: string, Total_Incidents: int, Shape: string]"
            ]
          },
          "metadata": {},
          "execution_count": 24
        }
      ]
    },
    {
      "cell_type": "markdown",
      "source": [
        "Total number of rows"
      ],
      "metadata": {
        "id": "fn8eV31owo1e"
      }
    },
    {
      "cell_type": "code",
      "source": [
        "df.count()"
      ],
      "metadata": {
        "colab": {
          "base_uri": "https://localhost:8080/"
        },
        "id": "2chrd0ata0Nt",
        "outputId": "a78444bc-6c04-42b9-83ed-5d364c50f515"
      },
      "execution_count": 25,
      "outputs": [
        {
          "output_type": "execute_result",
          "data": {
            "text/plain": [
              "513158"
            ]
          },
          "metadata": {},
          "execution_count": 25
        }
      ]
    },
    {
      "cell_type": "markdown",
      "source": [
        "Print the schema"
      ],
      "metadata": {
        "id": "7tsKg14DwsEq"
      }
    },
    {
      "cell_type": "code",
      "source": [
        "df.printSchema()"
      ],
      "metadata": {
        "colab": {
          "base_uri": "https://localhost:8080/"
        },
        "id": "Y_Aaj5SEapDZ",
        "outputId": "6b17f337-6ab0-467c-e9df-093f0122658d"
      },
      "execution_count": 26,
      "outputs": [
        {
          "output_type": "stream",
          "name": "stdout",
          "text": [
            "root\n",
            " |-- X: double (nullable = true)\n",
            " |-- Y: double (nullable = true)\n",
            " |-- RowID: string (nullable = true)\n",
            " |-- CrimeDateTime: string (nullable = true)\n",
            " |-- CrimeCode: string (nullable = true)\n",
            " |-- Location: string (nullable = true)\n",
            " |-- Description: string (nullable = true)\n",
            " |-- Inside_Outside: string (nullable = true)\n",
            " |-- Weapon: string (nullable = true)\n",
            " |-- Post: string (nullable = true)\n",
            " |-- District: string (nullable = true)\n",
            " |-- Neighborhood: string (nullable = true)\n",
            " |-- Latitude: double (nullable = true)\n",
            " |-- Longitude: double (nullable = true)\n",
            " |-- GeoLocation: string (nullable = true)\n",
            " |-- Premise: string (nullable = true)\n",
            " |-- VRIName: string (nullable = true)\n",
            " |-- Total_Incidents: integer (nullable = true)\n",
            " |-- Shape: string (nullable = true)\n",
            "\n"
          ]
        }
      ]
    },
    {
      "cell_type": "markdown",
      "source": [
        "Top 5 rows of the dataframe"
      ],
      "metadata": {
        "id": "XOaE-Y1ew2U7"
      }
    },
    {
      "cell_type": "code",
      "source": [
        "df.head(5)"
      ],
      "metadata": {
        "colab": {
          "base_uri": "https://localhost:8080/"
        },
        "id": "gStHjE_lbY8G",
        "outputId": "cd558c99-9000-4782-99d7-5a96d8791b6d"
      },
      "execution_count": 28,
      "outputs": [
        {
          "output_type": "execute_result",
          "data": {
            "text/plain": [
              "[Row(X=1420074.13302107, Y=594160.602354662, RowID='1', CrimeDateTime='2022/02/26 04:00:00+00', CrimeCode='4E', Location='200 W MONUMENT ST', Description='COMMON ASSAULT', Inside_Outside=None, Weapon='NA', Post='124', District='CENTRAL', Neighborhood='MOUNT VERNON', Latitude=39.2975, Longitude=-76.6193, GeoLocation='(39.2975,-76.6193)', Premise=None, VRIName=None, Total_Incidents=1, Shape=None),\n",
              " Row(X=1411374.22509631, Y=589791.383964529, RowID='2', CrimeDateTime='2022/02/26 01:26:30+00', CrimeCode='9S', Location='2100 FREDERICK AVE', Description='SHOOTING', Inside_Outside='Outside', Weapon='FIREARM', Post='835', District='SOUTHWEST', Neighborhood='CARROLLTON RIDGE', Latitude=39.2856, Longitude=-76.6501, GeoLocation='(39.2856,-76.6501)', Premise='COMMON BUSINESS', VRIName='Tri-District', Total_Incidents=1, Shape=None),\n",
              " Row(X=1411401.16887136, Y=582761.775193539, RowID='3', CrimeDateTime='2022/02/26 10:22:00+00', CrimeCode='4E', Location='2000 GRINNALDS AVE', Description='COMMON ASSAULT', Inside_Outside=None, Weapon='NA', Post='831', District='SOUTHWEST', Neighborhood='MORRELL PARK', Latitude=39.2663, Longitude=-76.6501, GeoLocation='(39.2663,-76.6501)', Premise=None, VRIName=None, Total_Incidents=1, Shape=None),\n",
              " Row(X=1422663.14365552, Y=597595.359444412, RowID='4', CrimeDateTime='2022/02/26 01:11:00+00', CrimeCode='7A', Location='400 E OLIVER ST', Description='AUTO THEFT', Inside_Outside=None, Weapon='NA', Post='313', District='EASTERN', Neighborhood='GREENMOUNT WEST', Latitude=39.3069, Longitude=-76.6101, GeoLocation='(39.3069,-76.6101)', Premise=None, VRIName=None, Total_Incidents=1, Shape=None),\n",
              " Row(X=1440496.49709374, Y=607767.144994879, RowID='5', CrimeDateTime='2022/02/26 12:30:00+00', CrimeCode='4B', Location='5300 PLAINFIELD AVE', Description='AGG. ASSAULT', Inside_Outside=None, Weapon='KNIFE', Post='444', District='NORTHEAST', Neighborhood='FRANKFORD', Latitude=39.3346, Longitude=-76.5469, GeoLocation='(39.3346,-76.5469)', Premise=None, VRIName=None, Total_Incidents=1, Shape=None)]"
            ]
          },
          "metadata": {},
          "execution_count": 28
        }
      ]
    },
    {
      "cell_type": "markdown",
      "source": [
        "**Distinct Crime codes**"
      ],
      "metadata": {
        "id": "j8Uw0vmnIAO4"
      }
    },
    {
      "cell_type": "code",
      "source": [
        "#Number of distinct crime codes\n",
        "df.createOrReplaceTempView('DistinctCrimecode')\n",
        "\n",
        "query = \"\"\"\n",
        "SELECT COUNT(DISTINCT Crimecode) AS Count\n",
        "FROM DistinctCrimecode \n",
        "\n",
        "\"\"\"\n",
        "spark.sql(query).show()"
      ],
      "metadata": {
        "colab": {
          "base_uri": "https://localhost:8080/"
        },
        "id": "GKakAkBcolBb",
        "outputId": "611dcba3-ebf7-4753-a454-15cb8ac3d163"
      },
      "execution_count": 35,
      "outputs": [
        {
          "output_type": "stream",
          "name": "stdout",
          "text": [
            "+-----+\n",
            "|Count|\n",
            "+-----+\n",
            "|   85|\n",
            "+-----+\n",
            "\n"
          ]
        }
      ]
    },
    {
      "cell_type": "code",
      "source": [
        "#Distinct crime codes\n",
        "df.createOrReplaceTempView('DistinctCrimecode')\n",
        "\n",
        "query = \"\"\"\n",
        "SELECT DISTINCT Crimecode\n",
        "FROM DistinctCrimecode\n",
        "\n",
        "\"\"\"\n",
        "spark.sql(query).show(85)"
      ],
      "metadata": {
        "colab": {
          "base_uri": "https://localhost:8080/"
        },
        "id": "42e4ve1wcjf_",
        "outputId": "461bb119-0559-4c86-d0f8-c33ba7811c74"
      },
      "execution_count": 36,
      "outputs": [
        {
          "output_type": "stream",
          "name": "stdout",
          "text": [
            "+---------+\n",
            "|Crimecode|\n",
            "+---------+\n",
            "|       3P|\n",
            "|       3K|\n",
            "|      3BJ|\n",
            "|       1A|\n",
            "|       3M|\n",
            "|       5F|\n",
            "|       4B|\n",
            "|       3B|\n",
            "|       7A|\n",
            "|      3NF|\n",
            "|      3EF|\n",
            "|       3N|\n",
            "|       5D|\n",
            "|       6K|\n",
            "|      3LO|\n",
            "|      3AF|\n",
            "|       7B|\n",
            "|      3GO|\n",
            "|     3AJF|\n",
            "|      8GV|\n",
            "|      8AO|\n",
            "|       7C|\n",
            "|      3AK|\n",
            "|      3GK|\n",
            "|       6L|\n",
            "|      3EO|\n",
            "|      3JO|\n",
            "|       3F|\n",
            "|       1K|\n",
            "|       8H|\n",
            "|      8CV|\n",
            "|      8DO|\n",
            "|       4C|\n",
            "|       5A|\n",
            "|       6C|\n",
            "|      3NK|\n",
            "|       3D|\n",
            "|       6H|\n",
            "|      3LK|\n",
            "|     3AJK|\n",
            "|      3CO|\n",
            "|       3L|\n",
            "|       4E|\n",
            "|      8BV|\n",
            "|       6D|\n",
            "|       2A|\n",
            "|       3C|\n",
            "|       8I|\n",
            "|      3NO|\n",
            "|      3JF|\n",
            "|       3E|\n",
            "|      3LF|\n",
            "|       1O|\n",
            "|       8J|\n",
            "|      3CK|\n",
            "|      8BO|\n",
            "|       2B|\n",
            "|      3JK|\n",
            "|       5B|\n",
            "|       4A|\n",
            "|      8GO|\n",
            "|      8EV|\n",
            "|      3CF|\n",
            "|      8EO|\n",
            "|       6G|\n",
            "|       6A|\n",
            "|       9S|\n",
            "|      3EK|\n",
            "|      8FV|\n",
            "|      3GF|\n",
            "|      8CO|\n",
            "|       3H|\n",
            "|       4D|\n",
            "|      8FO|\n",
            "|       6J|\n",
            "|       6F|\n",
            "|       6E|\n",
            "|       3J|\n",
            "|       5C|\n",
            "|       5G|\n",
            "|      8AV|\n",
            "|       5E|\n",
            "|     3AJO|\n",
            "|      3AO|\n",
            "|       6B|\n",
            "+---------+\n",
            "\n"
          ]
        }
      ]
    },
    {
      "cell_type": "markdown",
      "source": [
        "**Number of crimes per crime code in descending order**"
      ],
      "metadata": {
        "id": "--tttTa1IR2l"
      }
    },
    {
      "cell_type": "code",
      "source": [
        "df.createOrReplaceTempView('Numberofcrimes')\n",
        "\n",
        "query = \"\"\"\n",
        "SELECT Crimecode, SUM(Total_Incidents) AS Number_of_Crimes\n",
        "FROM Numberofcrimes\n",
        "GROUP BY Crimecode\n",
        "ORDER BY SUM(Total_Incidents) DESC\n",
        "\n",
        "\"\"\"\n",
        "spark.sql(query).show()"
      ],
      "metadata": {
        "colab": {
          "base_uri": "https://localhost:8080/"
        },
        "id": "OqjJRzKQeUM0",
        "outputId": "765bd71a-e5fd-4d53-a815-cf8253fcf4c8"
      },
      "execution_count": 38,
      "outputs": [
        {
          "output_type": "stream",
          "name": "stdout",
          "text": [
            "+---------+----------------+\n",
            "|Crimecode|Number_of_Crimes|\n",
            "+---------+----------------+\n",
            "|       4E|           91650|\n",
            "|       6D|           68427|\n",
            "|       5A|           43928|\n",
            "|       7A|           40274|\n",
            "|       6J|           27636|\n",
            "|       6G|           26858|\n",
            "|       6E|           24300|\n",
            "|       6C|           23227|\n",
            "|       4C|           22438|\n",
            "|       5D|           14971|\n",
            "|      3AF|           14739|\n",
            "|       4B|           14460|\n",
            "|       4A|           13226|\n",
            "|       3B|           10737|\n",
            "|       4D|            7232|\n",
            "|       5B|            6475|\n",
            "|       9S|            5443|\n",
            "|       6F|            5081|\n",
            "|       5C|            4917|\n",
            "|       6B|            4106|\n",
            "+---------+----------------+\n",
            "only showing top 20 rows\n",
            "\n"
          ]
        }
      ]
    },
    {
      "cell_type": "markdown",
      "source": [
        "**Neighborhood with highest crimes**"
      ],
      "metadata": {
        "id": "IOlipBhNIjuM"
      }
    },
    {
      "cell_type": "code",
      "source": [
        "df.createOrReplaceTempView('NeighborhoodCrimes')\n",
        "\n",
        "query = \"\"\"\n",
        "\n",
        "SELECT Neighborhood AS Highest_Crime_City, SUM(Total_Incidents) AS Crime_count FROM NeighborhoodCrimes \n",
        "GROUP BY Neighborhood \n",
        "ORDER BY SUM(Total_Incidents) DESC\n",
        "\n",
        "\"\"\"\n",
        "spark.sql(query).show(1)"
      ],
      "metadata": {
        "colab": {
          "base_uri": "https://localhost:8080/"
        },
        "id": "PYCLKoh7fJ5-",
        "outputId": "97b66a2c-8d8a-4259-d730-4d5efc06086f"
      },
      "execution_count": 49,
      "outputs": [
        {
          "output_type": "stream",
          "name": "stdout",
          "text": [
            "+------------------+-----------+\n",
            "|Highest_Crime_City|Crime_count|\n",
            "+------------------+-----------+\n",
            "|          DOWNTOWN|      17799|\n",
            "+------------------+-----------+\n",
            "only showing top 1 row\n",
            "\n"
          ]
        }
      ]
    },
    {
      "cell_type": "markdown",
      "source": [
        "**Month having most crimes**"
      ],
      "metadata": {
        "id": "sNyDax9gIwi2"
      }
    },
    {
      "cell_type": "code",
      "source": [
        "df.createOrReplaceTempView('CrimeMonth')\n",
        "\n",
        "query = \"\"\"\n",
        "\n",
        "SELECT CAST(SUBSTRING(CrimeDateTime, 6, 2) AS int)  AS Highest_Crime_Month, SUM(Total_Incidents) AS Count FROM CrimeMonth\n",
        "GROUP BY Highest_Crime_Month\n",
        "ORDER BY SUM(Total_Incidents) DESC\n",
        "\n",
        "\"\"\"\n",
        "spark.sql(query).show(1)"
      ],
      "metadata": {
        "colab": {
          "base_uri": "https://localhost:8080/"
        },
        "id": "4xVgV80KiSra",
        "outputId": "c532f3d7-73fc-4324-93d4-e2ee47d840ed"
      },
      "execution_count": 43,
      "outputs": [
        {
          "output_type": "stream",
          "name": "stdout",
          "text": [
            "+-------------------+-----+\n",
            "|Highest_Crime_Month|Count|\n",
            "+-------------------+-----+\n",
            "|                  8|46327|\n",
            "+-------------------+-----+\n",
            "only showing top 1 row\n",
            "\n"
          ]
        }
      ]
    },
    {
      "cell_type": "markdown",
      "source": [
        "**Weapons Used**"
      ],
      "metadata": {
        "id": "UiLAP-fvJBA8"
      }
    },
    {
      "cell_type": "code",
      "source": [
        "df.createOrReplaceTempView('DistinctWeapons')\n",
        "\n",
        "query = \"\"\"\n",
        "\n",
        "SELECT DISTINCT Weapon FROM DistinctWeapons\n",
        "WHERE Weapon <> 'NA' \n",
        "\"\"\"\n",
        "spark.sql(query).show()"
      ],
      "metadata": {
        "colab": {
          "base_uri": "https://localhost:8080/"
        },
        "id": "X5DXpcDwjBRR",
        "outputId": "f3212180-cb34-4ec5-da60-f36adf9784c5"
      },
      "execution_count": 14,
      "outputs": [
        {
          "output_type": "stream",
          "name": "stdout",
          "text": [
            "+-------+\n",
            "| Weapon|\n",
            "+-------+\n",
            "|  HANDS|\n",
            "|  KNIFE|\n",
            "|  OTHER|\n",
            "|   FIRE|\n",
            "|FIREARM|\n",
            "+-------+\n",
            "\n"
          ]
        }
      ]
    },
    {
      "cell_type": "markdown",
      "source": [
        "**Most used Weapon**"
      ],
      "metadata": {
        "id": "2ZhB4REEJKN_"
      }
    },
    {
      "cell_type": "code",
      "source": [
        "df.createOrReplaceTempView('WeaponUsage')\n",
        "\n",
        "query = \"\"\"\n",
        "\n",
        "SELECT Weapon , SUM(Total_Incidents) AS Total_Usage FROM WeaponUsage \n",
        "WHERE Weapon <> 'NA'\n",
        "GROUP BY Weapon \n",
        "ORDER BY SUM(Total_Incidents) DESC\n",
        "\n",
        "\"\"\"\n",
        "spark.sql(query).show(1)"
      ],
      "metadata": {
        "colab": {
          "base_uri": "https://localhost:8080/"
        },
        "id": "PEqZci9yjUk2",
        "outputId": "747e23eb-98ca-4aea-a309-553bd00a66b0"
      },
      "execution_count": 13,
      "outputs": [
        {
          "output_type": "stream",
          "name": "stdout",
          "text": [
            "+-------+-----------+\n",
            "| Weapon|Total_Usage|\n",
            "+-------+-----------+\n",
            "|FIREARM|      46139|\n",
            "+-------+-----------+\n",
            "only showing top 1 row\n",
            "\n"
          ]
        }
      ]
    }
  ]
}